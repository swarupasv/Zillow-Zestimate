{
 "cells": [
  {
   "cell_type": "code",
   "execution_count": 1,
   "metadata": {},
   "outputs": [],
   "source": [
    "import numpy as np \n",
    "import pandas as pd \n",
    "%matplotlib inline\n",
    "import matplotlib.pyplot as plt"
   ]
  },
  {
   "cell_type": "code",
   "execution_count": 2,
   "metadata": {},
   "outputs": [],
   "source": [
    "train = pd.read_csv('Exercise_TRAINING.csv')\n",
    "test = pd.read_csv('Exercise_TEST.csv')"
   ]
  },
  {
   "cell_type": "code",
   "execution_count": 3,
   "metadata": {},
   "outputs": [
    {
     "data": {
      "text/plain": [
       "(11588, 24)"
      ]
     },
     "execution_count": 3,
     "metadata": {},
     "output_type": "execute_result"
    }
   ],
   "source": [
    "train.shape"
   ]
  },
  {
   "cell_type": "code",
   "execution_count": 4,
   "metadata": {},
   "outputs": [
    {
     "data": {
      "text/plain": [
       "(4402, 24)"
      ]
     },
     "execution_count": 4,
     "metadata": {},
     "output_type": "execute_result"
    }
   ],
   "source": [
    "test.shape"
   ]
  },
  {
   "cell_type": "code",
   "execution_count": 5,
   "metadata": {},
   "outputs": [
    {
     "data": {
      "text/html": [
       "<div>\n",
       "<style scoped>\n",
       "    .dataframe tbody tr th:only-of-type {\n",
       "        vertical-align: middle;\n",
       "    }\n",
       "\n",
       "    .dataframe tbody tr th {\n",
       "        vertical-align: top;\n",
       "    }\n",
       "\n",
       "    .dataframe thead th {\n",
       "        text-align: right;\n",
       "    }\n",
       "</style>\n",
       "<table border=\"1\" class=\"dataframe\">\n",
       "  <thead>\n",
       "    <tr style=\"text-align: right;\">\n",
       "      <th></th>\n",
       "      <th>PropertyID</th>\n",
       "      <th>SaleDollarCnt</th>\n",
       "      <th>TransDate</th>\n",
       "      <th>censusblockgroup</th>\n",
       "      <th>ZoneCodeCounty</th>\n",
       "      <th>Usecode</th>\n",
       "      <th>BedroomCnt</th>\n",
       "      <th>BathroomCnt</th>\n",
       "      <th>FinishedSquareFeet</th>\n",
       "      <th>GarageSquareFeet</th>\n",
       "      <th>...</th>\n",
       "      <th>Latitude</th>\n",
       "      <th>Longitude</th>\n",
       "      <th>BGMedHomeValue</th>\n",
       "      <th>BGMedRent</th>\n",
       "      <th>BGMedYearBuilt</th>\n",
       "      <th>BGPctOwn</th>\n",
       "      <th>BGPctVacant</th>\n",
       "      <th>BGMedIncome</th>\n",
       "      <th>BGPctKids</th>\n",
       "      <th>BGMedAge</th>\n",
       "    </tr>\n",
       "  </thead>\n",
       "  <tbody>\n",
       "    <tr>\n",
       "      <th>0</th>\n",
       "      <td>48648941</td>\n",
       "      <td>285000.0</td>\n",
       "      <td>5/23/2015</td>\n",
       "      <td>5.300000e+11</td>\n",
       "      <td>R7</td>\n",
       "      <td>9</td>\n",
       "      <td>4.0</td>\n",
       "      <td>2.00</td>\n",
       "      <td>1900.0</td>\n",
       "      <td>480.0</td>\n",
       "      <td>...</td>\n",
       "      <td>47321389</td>\n",
       "      <td>-122213716</td>\n",
       "      <td>107800.0</td>\n",
       "      <td>844.0</td>\n",
       "      <td>1975.0</td>\n",
       "      <td>0.6685</td>\n",
       "      <td>0.0780</td>\n",
       "      <td>42854</td>\n",
       "      <td>0.1924</td>\n",
       "      <td>48.6</td>\n",
       "    </tr>\n",
       "    <tr>\n",
       "      <th>1</th>\n",
       "      <td>48648982</td>\n",
       "      <td>309950.0</td>\n",
       "      <td>8/22/2015</td>\n",
       "      <td>5.300000e+11</td>\n",
       "      <td>R8P</td>\n",
       "      <td>9</td>\n",
       "      <td>3.0</td>\n",
       "      <td>2.00</td>\n",
       "      <td>2170.0</td>\n",
       "      <td>320.0</td>\n",
       "      <td>...</td>\n",
       "      <td>47482082</td>\n",
       "      <td>-122244269</td>\n",
       "      <td>181500.0</td>\n",
       "      <td>925.0</td>\n",
       "      <td>1969.0</td>\n",
       "      <td>0.5753</td>\n",
       "      <td>0.0192</td>\n",
       "      <td>54013</td>\n",
       "      <td>0.3718</td>\n",
       "      <td>42.6</td>\n",
       "    </tr>\n",
       "    <tr>\n",
       "      <th>2</th>\n",
       "      <td>48649024</td>\n",
       "      <td>476000.0</td>\n",
       "      <td>8/27/2015</td>\n",
       "      <td>5.300000e+11</td>\n",
       "      <td>SF 7200</td>\n",
       "      <td>9</td>\n",
       "      <td>4.0</td>\n",
       "      <td>1.00</td>\n",
       "      <td>2150.0</td>\n",
       "      <td>590.0</td>\n",
       "      <td>...</td>\n",
       "      <td>47561383</td>\n",
       "      <td>-122308083</td>\n",
       "      <td>344300.0</td>\n",
       "      <td>733.0</td>\n",
       "      <td>1946.0</td>\n",
       "      <td>0.6331</td>\n",
       "      <td>0.0000</td>\n",
       "      <td>56782</td>\n",
       "      <td>0.3207</td>\n",
       "      <td>40.7</td>\n",
       "    </tr>\n",
       "    <tr>\n",
       "      <th>3</th>\n",
       "      <td>48649040</td>\n",
       "      <td>324950.0</td>\n",
       "      <td>7/1/2015</td>\n",
       "      <td>5.300000e+11</td>\n",
       "      <td>R1</td>\n",
       "      <td>9</td>\n",
       "      <td>4.0</td>\n",
       "      <td>2.25</td>\n",
       "      <td>2560.0</td>\n",
       "      <td>NaN</td>\n",
       "      <td>...</td>\n",
       "      <td>47387929</td>\n",
       "      <td>-122279389</td>\n",
       "      <td>284200.0</td>\n",
       "      <td>900.0</td>\n",
       "      <td>1977.0</td>\n",
       "      <td>0.5456</td>\n",
       "      <td>0.0573</td>\n",
       "      <td>44200</td>\n",
       "      <td>0.3359</td>\n",
       "      <td>40.0</td>\n",
       "    </tr>\n",
       "    <tr>\n",
       "      <th>4</th>\n",
       "      <td>48649057</td>\n",
       "      <td>325000.0</td>\n",
       "      <td>6/20/2015</td>\n",
       "      <td>5.300000e+11</td>\n",
       "      <td>LDR</td>\n",
       "      <td>9</td>\n",
       "      <td>4.0</td>\n",
       "      <td>1.75</td>\n",
       "      <td>1720.0</td>\n",
       "      <td>NaN</td>\n",
       "      <td>...</td>\n",
       "      <td>47477068</td>\n",
       "      <td>-122263852</td>\n",
       "      <td>290100.0</td>\n",
       "      <td>802.0</td>\n",
       "      <td>1972.0</td>\n",
       "      <td>0.4267</td>\n",
       "      <td>0.0551</td>\n",
       "      <td>65282</td>\n",
       "      <td>0.1633</td>\n",
       "      <td>44.4</td>\n",
       "    </tr>\n",
       "  </tbody>\n",
       "</table>\n",
       "<p>5 rows × 24 columns</p>\n",
       "</div>"
      ],
      "text/plain": [
       "   PropertyID  SaleDollarCnt  TransDate  censusblockgroup ZoneCodeCounty  \\\n",
       "0    48648941       285000.0  5/23/2015      5.300000e+11             R7   \n",
       "1    48648982       309950.0  8/22/2015      5.300000e+11            R8P   \n",
       "2    48649024       476000.0  8/27/2015      5.300000e+11        SF 7200   \n",
       "3    48649040       324950.0   7/1/2015      5.300000e+11             R1   \n",
       "4    48649057       325000.0  6/20/2015      5.300000e+11            LDR   \n",
       "\n",
       "   Usecode  BedroomCnt  BathroomCnt  FinishedSquareFeet  GarageSquareFeet  \\\n",
       "0        9         4.0         2.00              1900.0             480.0   \n",
       "1        9         3.0         2.00              2170.0             320.0   \n",
       "2        9         4.0         1.00              2150.0             590.0   \n",
       "3        9         4.0         2.25              2560.0               NaN   \n",
       "4        9         4.0         1.75              1720.0               NaN   \n",
       "\n",
       "     ...     Latitude  Longitude  BGMedHomeValue  BGMedRent  BGMedYearBuilt  \\\n",
       "0    ...     47321389 -122213716        107800.0      844.0          1975.0   \n",
       "1    ...     47482082 -122244269        181500.0      925.0          1969.0   \n",
       "2    ...     47561383 -122308083        344300.0      733.0          1946.0   \n",
       "3    ...     47387929 -122279389        284200.0      900.0          1977.0   \n",
       "4    ...     47477068 -122263852        290100.0      802.0          1972.0   \n",
       "\n",
       "   BGPctOwn  BGPctVacant  BGMedIncome  BGPctKids  BGMedAge  \n",
       "0    0.6685       0.0780        42854     0.1924      48.6  \n",
       "1    0.5753       0.0192        54013     0.3718      42.6  \n",
       "2    0.6331       0.0000        56782     0.3207      40.7  \n",
       "3    0.5456       0.0573        44200     0.3359      40.0  \n",
       "4    0.4267       0.0551        65282     0.1633      44.4  \n",
       "\n",
       "[5 rows x 24 columns]"
      ]
     },
     "execution_count": 5,
     "metadata": {},
     "output_type": "execute_result"
    }
   ],
   "source": [
    "train.head()"
   ]
  },
  {
   "cell_type": "code",
   "execution_count": 6,
   "metadata": {},
   "outputs": [],
   "source": [
    "train_PropertyID = train['PropertyID']\n",
    "test_PropertyID = test['PropertyID']\n",
    "del train['PropertyID']\n",
    "del test['PropertyID']"
   ]
  },
  {
   "cell_type": "code",
   "execution_count": 7,
   "metadata": {},
   "outputs": [
    {
     "data": {
      "text/html": [
       "<div>\n",
       "<style scoped>\n",
       "    .dataframe tbody tr th:only-of-type {\n",
       "        vertical-align: middle;\n",
       "    }\n",
       "\n",
       "    .dataframe tbody tr th {\n",
       "        vertical-align: top;\n",
       "    }\n",
       "\n",
       "    .dataframe thead th {\n",
       "        text-align: right;\n",
       "    }\n",
       "</style>\n",
       "<table border=\"1\" class=\"dataframe\">\n",
       "  <thead>\n",
       "    <tr style=\"text-align: right;\">\n",
       "      <th></th>\n",
       "      <th>Missing Ratio</th>\n",
       "    </tr>\n",
       "  </thead>\n",
       "  <tbody>\n",
       "    <tr>\n",
       "      <th>ViewType</th>\n",
       "      <td>77.286848</td>\n",
       "    </tr>\n",
       "    <tr>\n",
       "      <th>GarageSquareFeet</th>\n",
       "      <td>24.516741</td>\n",
       "    </tr>\n",
       "    <tr>\n",
       "      <th>BGMedRent</th>\n",
       "      <td>22.704522</td>\n",
       "    </tr>\n",
       "    <tr>\n",
       "      <th>BGMedYearBuilt</th>\n",
       "      <td>2.131515</td>\n",
       "    </tr>\n",
       "    <tr>\n",
       "      <th>BGMedHomeValue</th>\n",
       "      <td>0.051778</td>\n",
       "    </tr>\n",
       "  </tbody>\n",
       "</table>\n",
       "</div>"
      ],
      "text/plain": [
       "                  Missing Ratio\n",
       "ViewType              77.286848\n",
       "GarageSquareFeet      24.516741\n",
       "BGMedRent             22.704522\n",
       "BGMedYearBuilt         2.131515\n",
       "BGMedHomeValue         0.051778"
      ]
     },
     "execution_count": 7,
     "metadata": {},
     "output_type": "execute_result"
    }
   ],
   "source": [
    "train_data_na = (train.isnull().sum() / len(train)) * 100\n",
    "train_data_na = train_data_na.drop(train_data_na[train_data_na == 0].index).sort_values(ascending=False)\n",
    "missing_data = pd.DataFrame({'Missing Ratio' :train_data_na})\n",
    "missing_data.head(20)"
   ]
  },
  {
   "cell_type": "code",
   "execution_count": 8,
   "metadata": {},
   "outputs": [
    {
     "data": {
      "text/plain": [
       "<matplotlib.axes._subplots.AxesSubplot at 0x180aa7adda0>"
      ]
     },
     "execution_count": 8,
     "metadata": {},
     "output_type": "execute_result"
    },
    {
     "data": {
      "image/png": "[encoded data removed]",
      "text/plain": [
       "<matplotlib.figure.Figure at 0x180a6f78550>"
      ]
     },
     "metadata": {},
     "output_type": "display_data"
    }
   ],
   "source": [
    "import seaborn as sns\n",
    "#Correlation map to see how features are correlated with score\n",
    "corrmat = train.corr()\n",
    "plt.subplots(figsize=(12,12))\n",
    "sns.heatmap(corrmat, vmax=0.9, square=True)"
   ]
  },
  {
   "cell_type": "code",
   "execution_count": 9,
   "metadata": {},
   "outputs": [],
   "source": [
    "del train['ViewType']\n",
    "del test['ViewType']"
   ]
  },
  {
   "cell_type": "code",
   "execution_count": 10,
   "metadata": {},
   "outputs": [
    {
     "data": {
      "text/plain": [
       "SaleDollarCnt         float64\n",
       "TransDate              object\n",
       "censusblockgroup      float64\n",
       "ZoneCodeCounty         object\n",
       "Usecode                 int64\n",
       "BedroomCnt            float64\n",
       "BathroomCnt           float64\n",
       "FinishedSquareFeet    float64\n",
       "GarageSquareFeet      float64\n",
       "LotSizeSquareFeet       int64\n",
       "StoryCnt              float64\n",
       "BuiltYear             float64\n",
       "Latitude                int64\n",
       "Longitude               int64\n",
       "BGMedHomeValue        float64\n",
       "BGMedRent             float64\n",
       "BGMedYearBuilt        float64\n",
       "BGPctOwn              float64\n",
       "BGPctVacant           float64\n",
       "BGMedIncome             int64\n",
       "BGPctKids             float64\n",
       "BGMedAge              float64\n",
       "dtype: object"
      ]
     },
     "execution_count": 10,
     "metadata": {},
     "output_type": "execute_result"
    }
   ],
   "source": [
    "train.dtypes"
   ]
  },
  {
   "cell_type": "code",
   "execution_count": 11,
   "metadata": {},
   "outputs": [
    {
     "data": {
      "image/png": "[encoded data removed]",
      "text/plain": [
       "<matplotlib.figure.Figure at 0x180aab9edd8>"
      ]
     },
     "metadata": {},
     "output_type": "display_data"
    }
   ],
   "source": [
    "fig,ax = plt.subplots()\n",
    "ax.scatter(x = train['StoryCnt'], y = train['SaleDollarCnt'])\n",
    "plt.ylabel('SaleDollarCnt', fontsize=13)\n",
    "plt.xlabel('StoryCnt', fontsize=13)\n",
    "plt.show()"
   ]
  },
  {
   "cell_type": "code",
   "execution_count": 12,
   "metadata": {},
   "outputs": [
    {
     "data": {
      "image/png": "[encoded data removed]",
      "text/plain": [
       "<matplotlib.figure.Figure at 0x180aad81ef0>"
      ]
     },
     "metadata": {},
     "output_type": "display_data"
    }
   ],
   "source": [
    "#Deleting outliers\n",
    "train = train.drop(train[(train['StoryCnt']>2)& (train['StoryCnt']<2.25)].index)\n",
    "\n",
    "#Check the graphic again\n",
    "fig, ax = plt.subplots()\n",
    "ax.scatter(train['StoryCnt'], train['SaleDollarCnt'])\n",
    "plt.ylabel('SaleDollarCnt', fontsize=13)\n",
    "plt.xlabel('StoryCnt', fontsize=13)\n",
    "plt.show()"
   ]
  },
  {
   "cell_type": "code",
   "execution_count": 13,
   "metadata": {},
   "outputs": [
    {
     "data": {
      "image/png": "[encoded data removed]",
      "text/plain": [
       "<matplotlib.figure.Figure at 0x180aadac1d0>"
      ]
     },
     "metadata": {},
     "output_type": "display_data"
    }
   ],
   "source": [
    "fig,ax = plt.subplots()\n",
    "ax.scatter(x = train['GarageSquareFeet'], y = train['SaleDollarCnt'])\n",
    "plt.ylabel('SaleDollarCnt', fontsize=13)\n",
    "plt.xlabel('GarageSquareFeet', fontsize=13)\n",
    "plt.show()"
   ]
  },
  {
   "cell_type": "code",
   "execution_count": 14,
   "metadata": {},
   "outputs": [
    {
     "data": {
      "image/png": "[encoded data removed]",
      "text/plain": [
       "<matplotlib.figure.Figure at 0x180aabd4a90>"
      ]
     },
     "metadata": {},
     "output_type": "display_data"
    }
   ],
   "source": [
    "#Deleting outliers\n",
    "train = train.drop(train[(train['GarageSquareFeet']>3000)].index)\n",
    "\n",
    "#Check the graphic again\n",
    "fig, ax = plt.subplots()\n",
    "ax.scatter(train['GarageSquareFeet'], train['SaleDollarCnt'])\n",
    "plt.ylabel('SaleDollarCnt', fontsize=13)\n",
    "plt.xlabel('GarageSquareFeet', fontsize=13)\n",
    "plt.show()"
   ]
  },
  {
   "cell_type": "code",
   "execution_count": 15,
   "metadata": {},
   "outputs": [
    {
     "data": {
      "image/png": "[encoded data removed]",
      "text/plain": [
       "<matplotlib.figure.Figure at 0x180aae634e0>"
      ]
     },
     "metadata": {},
     "output_type": "display_data"
    }
   ],
   "source": [
    "fig,ax = plt.subplots()\n",
    "ax.scatter(x = train['FinishedSquareFeet'], y = train['SaleDollarCnt'])\n",
    "plt.ylabel('SaleDollarCnt', fontsize=13)\n",
    "plt.xlabel('FinishedSquareFeet', fontsize=13)\n",
    "plt.show()"
   ]
  },
  {
   "cell_type": "code",
   "execution_count": 16,
   "metadata": {},
   "outputs": [
    {
     "data": {
      "image/png": "[encoded data removed]",
      "text/plain": [
       "<matplotlib.figure.Figure at 0x180ab19b198>"
      ]
     },
     "metadata": {},
     "output_type": "display_data"
    }
   ],
   "source": [
    "#Deleting outliers\n",
    "train = train.drop(train[(train['FinishedSquareFeet']>10000)].index)\n",
    "\n",
    "#Check the graphic again\n",
    "fig, ax = plt.subplots()\n",
    "ax.scatter(train['FinishedSquareFeet'], train['SaleDollarCnt'])\n",
    "plt.ylabel('SaleDollarCnt', fontsize=13)\n",
    "plt.xlabel('FinishedSquareFeet', fontsize=13)\n",
    "plt.show()"
   ]
  },
  {
   "cell_type": "code",
   "execution_count": 17,
   "metadata": {},
   "outputs": [
    {
     "data": {
      "image/png": "[encoded data removed]",
      "text/plain": [
       "<matplotlib.figure.Figure at 0x180aae63940>"
      ]
     },
     "metadata": {},
     "output_type": "display_data"
    }
   ],
   "source": [
    "fig,ax = plt.subplots()\n",
    "ax.scatter(x = train['BathroomCnt'], y = train['SaleDollarCnt'])\n",
    "plt.ylabel('SaleDollarCnt', fontsize=13)\n",
    "plt.xlabel('BathroomCnt', fontsize=13)\n",
    "plt.show()"
   ]
  },
  {
   "cell_type": "code",
   "execution_count": 18,
   "metadata": {},
   "outputs": [
    {
     "data": {
      "image/png": "[encoded data removed]",
      "text/plain": [
       "<matplotlib.figure.Figure at 0x180ab171780>"
      ]
     },
     "metadata": {},
     "output_type": "display_data"
    }
   ],
   "source": [
    "#Deleting outliers\n",
    "train = train.drop(train[(train['BathroomCnt']>8)].index)\n",
    "\n",
    "#Check the graphic again\n",
    "fig, ax = plt.subplots()\n",
    "ax.scatter(train['BathroomCnt'], train['SaleDollarCnt'])\n",
    "plt.ylabel('SaleDollarCnt', fontsize=13)\n",
    "plt.xlabel('BathroomCnt', fontsize=13)\n",
    "plt.show()"
   ]
  },
  {
   "cell_type": "code",
   "execution_count": 19,
   "metadata": {},
   "outputs": [
    {
     "data": {
      "image/png": "[encoded data removed]",
      "text/plain": [
       "<matplotlib.figure.Figure at 0x180aaf0c2e8>"
      ]
     },
     "metadata": {},
     "output_type": "display_data"
    }
   ],
   "source": [
    "fig,ax = plt.subplots()\n",
    "ax.scatter(x = train['LotSizeSquareFeet'], y = train['SaleDollarCnt'])\n",
    "plt.ylabel('SaleDollarCnt', fontsize=13)\n",
    "plt.xlabel('LotSizeSquareFeet', fontsize=13)\n",
    "plt.show()"
   ]
  },
  {
   "cell_type": "code",
   "execution_count": 20,
   "metadata": {},
   "outputs": [
    {
     "data": {
      "image/png": "[encoded data removed]",
      "text/plain": [
       "<matplotlib.figure.Figure at 0x180aaf0ce80>"
      ]
     },
     "metadata": {},
     "output_type": "display_data"
    }
   ],
   "source": [
    "#Deleting outliers\n",
    "train = train.drop(train[(train['LotSizeSquareFeet']>1000000)].index)\n",
    "\n",
    "#Check the graphic again\n",
    "fig, ax = plt.subplots()\n",
    "ax.scatter(train['LotSizeSquareFeet'], train['SaleDollarCnt'])\n",
    "plt.ylabel('SaleDollarCnt', fontsize=13)\n",
    "plt.xlabel('LotSizeSquareFeet', fontsize=13)\n",
    "plt.show()"
   ]
  },
  {
   "cell_type": "code",
   "execution_count": 21,
   "metadata": {},
   "outputs": [
    {
     "data": {
      "image/png": "[encoded data removed]",
      "text/plain": [
       "<matplotlib.figure.Figure at 0x180ab22b0b8>"
      ]
     },
     "metadata": {},
     "output_type": "display_data"
    }
   ],
   "source": [
    "fig,ax = plt.subplots()\n",
    "ax.scatter(x = train['BGPctOwn'], y = train['SaleDollarCnt'])\n",
    "plt.ylabel('SaleDollarCnt', fontsize=13)\n",
    "plt.xlabel('BGPctOwn', fontsize=13)\n",
    "plt.show()"
   ]
  },
  {
   "cell_type": "code",
   "execution_count": 22,
   "metadata": {},
   "outputs": [
    {
     "data": {
      "image/png": "[encoded data removed]",
      "text/plain": [
       "<matplotlib.figure.Figure at 0x180aadaabe0>"
      ]
     },
     "metadata": {},
     "output_type": "display_data"
    }
   ],
   "source": [
    "#Deleting outliers\n",
    "train = train.drop(train[(train['BGPctOwn']<0.5)& (train['SaleDollarCnt']>4000000)].index)\n",
    "\n",
    "#Check the graphic again\n",
    "fig, ax = plt.subplots()\n",
    "ax.scatter(train['BGPctOwn'], train['SaleDollarCnt'])\n",
    "plt.ylabel('SaleDollarCnt', fontsize=13)\n",
    "plt.xlabel('BGPctOwn', fontsize=13)\n",
    "plt.show()"
   ]
  },
  {
   "cell_type": "code",
   "execution_count": 23,
   "metadata": {},
   "outputs": [
    {
     "data": {
      "text/plain": [
       "0.10327492939000844"
      ]
     },
     "execution_count": 23,
     "metadata": {},
     "output_type": "execute_result"
    }
   ],
   "source": [
    "train['SaleDollarCnt'].corr(train['BGPctOwn'])"
   ]
  },
  {
   "cell_type": "code",
   "execution_count": 24,
   "metadata": {},
   "outputs": [
    {
     "data": {
      "text/plain": [
       "0.007201354633381722"
      ]
     },
     "execution_count": 24,
     "metadata": {},
     "output_type": "execute_result"
    }
   ],
   "source": [
    "train['SaleDollarCnt'].corr(train['BGPctVacant'])"
   ]
  },
  {
   "cell_type": "code",
   "execution_count": 25,
   "metadata": {},
   "outputs": [
    {
     "data": {
      "image/png": "[encoded data removed]",
      "text/plain": [
       "<matplotlib.figure.Figure at 0x180aabd4a58>"
      ]
     },
     "metadata": {},
     "output_type": "display_data"
    }
   ],
   "source": [
    "fig,ax = plt.subplots()\n",
    "ax.scatter(x = train['BGPctVacant'], y = train['SaleDollarCnt'])\n",
    "plt.ylabel('SaleDollarCnt', fontsize=13)\n",
    "plt.xlabel('BGPctVacant', fontsize=13)\n",
    "plt.show()"
   ]
  },
  {
   "cell_type": "code",
   "execution_count": 26,
   "metadata": {},
   "outputs": [
    {
     "data": {
      "image/png": "[encoded data removed]",
      "text/plain": [
       "<matplotlib.figure.Figure at 0x180aae5bb38>"
      ]
     },
     "metadata": {},
     "output_type": "display_data"
    }
   ],
   "source": [
    "#Deleting outliers\n",
    "train = train.drop(train[(train['BGPctVacant']>0.45)& (train['SaleDollarCnt']<2000000)].index)\n",
    "\n",
    "#Check the graphic again\n",
    "fig, ax = plt.subplots()\n",
    "ax.scatter(train['BGPctVacant'], train['SaleDollarCnt'])\n",
    "plt.ylabel('SaleDollarCnt', fontsize=13)\n",
    "plt.xlabel('BGPctVacant', fontsize=13)\n",
    "plt.show()"
   ]
  },
  {
   "cell_type": "code",
   "execution_count": 27,
   "metadata": {},
   "outputs": [
    {
     "data": {
      "text/plain": [
       "0.015465512804087263"
      ]
     },
     "execution_count": 27,
     "metadata": {},
     "output_type": "execute_result"
    }
   ],
   "source": [
    "train['SaleDollarCnt'].corr(train['BGPctVacant'])"
   ]
  },
  {
   "cell_type": "code",
   "execution_count": 28,
   "metadata": {},
   "outputs": [
    {
     "data": {
      "image/png": "[encoded data removed]",
      "text/plain": [
       "<matplotlib.figure.Figure at 0x180aad4e550>"
      ]
     },
     "metadata": {},
     "output_type": "display_data"
    }
   ],
   "source": [
    "fig,ax = plt.subplots()\n",
    "ax.scatter(x = train['TransDate'], y = train['SaleDollarCnt'])\n",
    "plt.ylabel('SaleDollarCnt', fontsize=13)\n",
    "plt.xlabel('TransDate', fontsize=13)\n",
    "plt.show()"
   ]
  },
  {
   "cell_type": "code",
   "execution_count": 29,
   "metadata": {},
   "outputs": [],
   "source": [
    "ntrain = train.shape[0]\n",
    "ntest = test.shape[0]\n",
    "y_train = train.SaleDollarCnt.values\n",
    "Y_SaleDollarCnt=y_train\n",
    "y_train=np.log1p(y_train)"
   ]
  },
  {
   "cell_type": "code",
   "execution_count": 30,
   "metadata": {},
   "outputs": [
    {
     "name": "stdout",
     "output_type": "stream",
     "text": [
      "all_data size is : (15969, 21)\n"
     ]
    }
   ],
   "source": [
    "all_data = pd.concat((train, test)).reset_index(drop=True)\n",
    "all_data.drop(['SaleDollarCnt'], axis=1, inplace=True)\n",
    "print(\"all_data size is : {}\".format(all_data.shape))"
   ]
  },
  {
   "cell_type": "code",
   "execution_count": 31,
   "metadata": {},
   "outputs": [
    {
     "data": {
      "text/html": [
       "<div>\n",
       "<style scoped>\n",
       "    .dataframe tbody tr th:only-of-type {\n",
       "        vertical-align: middle;\n",
       "    }\n",
       "\n",
       "    .dataframe tbody tr th {\n",
       "        vertical-align: top;\n",
       "    }\n",
       "\n",
       "    .dataframe thead th {\n",
       "        text-align: right;\n",
       "    }\n",
       "</style>\n",
       "<table border=\"1\" class=\"dataframe\">\n",
       "  <thead>\n",
       "    <tr style=\"text-align: right;\">\n",
       "      <th></th>\n",
       "      <th>Missing Ratio</th>\n",
       "    </tr>\n",
       "  </thead>\n",
       "  <tbody>\n",
       "    <tr>\n",
       "      <th>GarageSquareFeet</th>\n",
       "      <td>24.854405</td>\n",
       "    </tr>\n",
       "    <tr>\n",
       "      <th>BGMedRent</th>\n",
       "      <td>22.499843</td>\n",
       "    </tr>\n",
       "    <tr>\n",
       "      <th>BGMedYearBuilt</th>\n",
       "      <td>1.934999</td>\n",
       "    </tr>\n",
       "    <tr>\n",
       "      <th>BGMedHomeValue</th>\n",
       "      <td>0.062621</td>\n",
       "    </tr>\n",
       "  </tbody>\n",
       "</table>\n",
       "</div>"
      ],
      "text/plain": [
       "                  Missing Ratio\n",
       "GarageSquareFeet      24.854405\n",
       "BGMedRent             22.499843\n",
       "BGMedYearBuilt         1.934999\n",
       "BGMedHomeValue         0.062621"
      ]
     },
     "execution_count": 31,
     "metadata": {},
     "output_type": "execute_result"
    }
   ],
   "source": [
    "#Dealing with missing Data\n",
    "all_data_na = (all_data.isnull().sum() / len(all_data)) * 100\n",
    "all_data_na = all_data_na.drop(all_data_na[all_data_na == 0].index).sort_values(ascending=False)\n",
    "missing_data = pd.DataFrame({'Missing Ratio' :all_data_na})\n",
    "missing_data.head(20)"
   ]
  },
  {
   "cell_type": "code",
   "execution_count": 32,
   "metadata": {},
   "outputs": [
    {
     "data": {
      "text/plain": [
       "SaleDollarCnt         float64\n",
       "TransDate              object\n",
       "censusblockgroup      float64\n",
       "ZoneCodeCounty         object\n",
       "Usecode                 int64\n",
       "BedroomCnt            float64\n",
       "BathroomCnt           float64\n",
       "FinishedSquareFeet    float64\n",
       "GarageSquareFeet      float64\n",
       "LotSizeSquareFeet       int64\n",
       "StoryCnt              float64\n",
       "BuiltYear             float64\n",
       "Latitude                int64\n",
       "Longitude               int64\n",
       "BGMedHomeValue        float64\n",
       "BGMedRent             float64\n",
       "BGMedYearBuilt        float64\n",
       "BGPctOwn              float64\n",
       "BGPctVacant           float64\n",
       "BGMedIncome             int64\n",
       "BGPctKids             float64\n",
       "BGMedAge              float64\n",
       "dtype: object"
      ]
     },
     "execution_count": 32,
     "metadata": {},
     "output_type": "execute_result"
    }
   ],
   "source": [
    "train.dtypes"
   ]
  },
  {
   "cell_type": "code",
   "execution_count": 33,
   "metadata": {},
   "outputs": [],
   "source": [
    "train[\"GarageSquareFeet\"] = train[\"GarageSquareFeet\"].fillna(0)\n",
    "train[\"BGMedRent\"] = train[\"BGMedRent\"].fillna(0)\n",
    "train[\"BGMedYearBuilt\"] = train[\"BGMedYearBuilt\"].fillna(train['BGMedYearBuilt'].mode()[0])\n",
    "train[\"BGMedHomeValue\"] = train[\"BGMedHomeValue\"].fillna(0)\n",
    "test[\"GarageSquareFeet\"] = test[\"GarageSquareFeet\"].fillna(0)\n",
    "test[\"BGMedRent\"] = test[\"BGMedRent\"].fillna(0)\n",
    "test[\"BGMedYearBuilt\"] = test[\"BGMedYearBuilt\"].fillna(test['BGMedYearBuilt'].mode()[0])\n",
    "test[\"BGMedHomeValue\"] = test[\"BGMedHomeValue\"].fillna(0)"
   ]
  },
  {
   "cell_type": "code",
   "execution_count": 34,
   "metadata": {},
   "outputs": [
    {
     "name": "stdout",
     "output_type": "stream",
     "text": [
      "all_data size is : (15969, 21)\n"
     ]
    }
   ],
   "source": [
    "all_data = pd.concat((train, test)).reset_index(drop=True)\n",
    "all_data.drop(['SaleDollarCnt'], axis=1, inplace=True)\n",
    "print(\"all_data size is : {}\".format(all_data.shape))"
   ]
  },
  {
   "cell_type": "code",
   "execution_count": 35,
   "metadata": {},
   "outputs": [
    {
     "data": {
      "text/html": [
       "<div>\n",
       "<style scoped>\n",
       "    .dataframe tbody tr th:only-of-type {\n",
       "        vertical-align: middle;\n",
       "    }\n",
       "\n",
       "    .dataframe tbody tr th {\n",
       "        vertical-align: top;\n",
       "    }\n",
       "\n",
       "    .dataframe thead th {\n",
       "        text-align: right;\n",
       "    }\n",
       "</style>\n",
       "<table border=\"1\" class=\"dataframe\">\n",
       "  <thead>\n",
       "    <tr style=\"text-align: right;\">\n",
       "      <th></th>\n",
       "      <th>Missing Ratio</th>\n",
       "    </tr>\n",
       "  </thead>\n",
       "  <tbody>\n",
       "  </tbody>\n",
       "</table>\n",
       "</div>"
      ],
      "text/plain": [
       "Empty DataFrame\n",
       "Columns: [Missing Ratio]\n",
       "Index: []"
      ]
     },
     "execution_count": 35,
     "metadata": {},
     "output_type": "execute_result"
    }
   ],
   "source": [
    "#Dealing with missing Data\n",
    "all_data_na = (all_data.isnull().sum() / len(all_data)) * 100\n",
    "all_data_na = all_data_na.drop(all_data_na[all_data_na == 0].index).sort_values(ascending=False)\n",
    "missing_data = pd.DataFrame({'Missing Ratio' :all_data_na})\n",
    "missing_data.head(20)"
   ]
  },
  {
   "cell_type": "code",
   "execution_count": 36,
   "metadata": {},
   "outputs": [],
   "source": [
    "all_data['BuiltYear'] = all_data['BuiltYear'].astype('int64')\n",
    "all_data['BuiltYear'] = all_data['BuiltYear'].astype('str')\n",
    "all_data['BGMedYearBuilt'] = all_data['BGMedYearBuilt'].astype('int64')\n",
    "all_data['BGMedYearBuilt'] = all_data['BGMedYearBuilt'].astype('str')\n",
    "all_data['censusblockgroup'] = all_data['censusblockgroup'].astype('str')\n",
    "all_data['Usecode'] = all_data['Usecode'].astype('str')\n",
    "all_data['Longitude']= all_data['Longitude'].astype('float64')\n",
    "all_data['Latitude']= all_data['Latitude'].astype('float64')"
   ]
  },
  {
   "cell_type": "code",
   "execution_count": 37,
   "metadata": {},
   "outputs": [],
   "source": [
    "del all_data['TransDate']"
   ]
  },
  {
   "cell_type": "code",
   "execution_count": 38,
   "metadata": {},
   "outputs": [],
   "source": [
    "#del all_data['BGPctVacant']\n",
    "del all_data['Longitude']"
   ]
  },
  {
   "cell_type": "code",
   "execution_count": 39,
   "metadata": {},
   "outputs": [
    {
     "data": {
      "text/html": [
       "<div>\n",
       "<style scoped>\n",
       "    .dataframe tbody tr th:only-of-type {\n",
       "        vertical-align: middle;\n",
       "    }\n",
       "\n",
       "    .dataframe tbody tr th {\n",
       "        vertical-align: top;\n",
       "    }\n",
       "\n",
       "    .dataframe thead th {\n",
       "        text-align: right;\n",
       "    }\n",
       "</style>\n",
       "<table border=\"1\" class=\"dataframe\">\n",
       "  <thead>\n",
       "    <tr style=\"text-align: right;\">\n",
       "      <th></th>\n",
       "      <th>Missing Ratio</th>\n",
       "    </tr>\n",
       "  </thead>\n",
       "  <tbody>\n",
       "  </tbody>\n",
       "</table>\n",
       "</div>"
      ],
      "text/plain": [
       "Empty DataFrame\n",
       "Columns: [Missing Ratio]\n",
       "Index: []"
      ]
     },
     "execution_count": 39,
     "metadata": {},
     "output_type": "execute_result"
    }
   ],
   "source": [
    "#Dealing with missing Data\n",
    "all_data_na = (all_data.isnull().sum() / len(all_data)) * 100\n",
    "all_data_na = all_data_na.drop(all_data_na[all_data_na == 0].index).sort_values(ascending=False)\n",
    "missing_data = pd.DataFrame({'Missing Ratio' :all_data_na})\n",
    "missing_data.head(20)"
   ]
  },
  {
   "cell_type": "code",
   "execution_count": 40,
   "metadata": {},
   "outputs": [
    {
     "name": "stdout",
     "output_type": "stream",
     "text": [
      "\n",
      "Skew in numerical features: \n",
      "\n"
     ]
    },
    {
     "data": {
      "text/html": [
       "<div>\n",
       "<style scoped>\n",
       "    .dataframe tbody tr th:only-of-type {\n",
       "        vertical-align: middle;\n",
       "    }\n",
       "\n",
       "    .dataframe tbody tr th {\n",
       "        vertical-align: top;\n",
       "    }\n",
       "\n",
       "    .dataframe thead th {\n",
       "        text-align: right;\n",
       "    }\n",
       "</style>\n",
       "<table border=\"1\" class=\"dataframe\">\n",
       "  <thead>\n",
       "    <tr style=\"text-align: right;\">\n",
       "      <th></th>\n",
       "      <th>Skew</th>\n",
       "    </tr>\n",
       "  </thead>\n",
       "  <tbody>\n",
       "    <tr>\n",
       "      <th>LotSizeSquareFeet</th>\n",
       "      <td>10.691812</td>\n",
       "    </tr>\n",
       "    <tr>\n",
       "      <th>BGPctVacant</th>\n",
       "      <td>1.848875</td>\n",
       "    </tr>\n",
       "    <tr>\n",
       "      <th>FinishedSquareFeet</th>\n",
       "      <td>1.176488</td>\n",
       "    </tr>\n",
       "    <tr>\n",
       "      <th>BGMedHomeValue</th>\n",
       "      <td>1.122004</td>\n",
       "    </tr>\n",
       "    <tr>\n",
       "      <th>BGMedIncome</th>\n",
       "      <td>0.722271</td>\n",
       "    </tr>\n",
       "    <tr>\n",
       "      <th>BathroomCnt</th>\n",
       "      <td>0.521282</td>\n",
       "    </tr>\n",
       "    <tr>\n",
       "      <th>BGMedAge</th>\n",
       "      <td>0.444676</td>\n",
       "    </tr>\n",
       "    <tr>\n",
       "      <th>BedroomCnt</th>\n",
       "      <td>0.442747</td>\n",
       "    </tr>\n",
       "    <tr>\n",
       "      <th>BGPctKids</th>\n",
       "      <td>0.406840</td>\n",
       "    </tr>\n",
       "    <tr>\n",
       "      <th>GarageSquareFeet</th>\n",
       "      <td>0.370614</td>\n",
       "    </tr>\n",
       "  </tbody>\n",
       "</table>\n",
       "</div>"
      ],
      "text/plain": [
       "                         Skew\n",
       "LotSizeSquareFeet   10.691812\n",
       "BGPctVacant          1.848875\n",
       "FinishedSquareFeet   1.176488\n",
       "BGMedHomeValue       1.122004\n",
       "BGMedIncome          0.722271\n",
       "BathroomCnt          0.521282\n",
       "BGMedAge             0.444676\n",
       "BedroomCnt           0.442747\n",
       "BGPctKids            0.406840\n",
       "GarageSquareFeet     0.370614"
      ]
     },
     "execution_count": 40,
     "metadata": {},
     "output_type": "execute_result"
    }
   ],
   "source": [
    "from scipy import stats\n",
    "from scipy.stats import norm, skew #for some statistics\n",
    "numeric_feats = all_data.dtypes[all_data.dtypes != 'object'].index\n",
    "\n",
    "numeric_feats\n",
    "# Check the skew of all numerical features\n",
    "skewed_feats = all_data[numeric_feats].apply(lambda x: skew(x.dropna())).sort_values(ascending=False)\n",
    "print(\"\\nSkew in numerical features: \\n\")\n",
    "skewness = pd.DataFrame({'Skew' :skewed_feats})\n",
    "skewness.head(10)"
   ]
  },
  {
   "cell_type": "code",
   "execution_count": 41,
   "metadata": {},
   "outputs": [
    {
     "name": "stdout",
     "output_type": "stream",
     "text": [
      "There are 14 skewed numerical features to Box Cox transform\n"
     ]
    }
   ],
   "source": [
    "skewness = skewness[abs(skewness) > 0.75]\n",
    "print(\"There are {} skewed numerical features to Box Cox transform\".format(skewness.shape[0]))\n",
    "from scipy.special import boxcox1p\n",
    "skewed_features = skewness.index\n",
    "lam = 0.15\n",
    "for feat in skewed_features:\n",
    "    #all_data[feat] += 1\n",
    "    all_data[feat] = boxcox1p(all_data[feat], lam)"
   ]
  },
  {
   "cell_type": "code",
   "execution_count": 42,
   "metadata": {},
   "outputs": [
    {
     "name": "stdout",
     "output_type": "stream",
     "text": [
      "(15969, 393)\n"
     ]
    }
   ],
   "source": [
    "all_data = pd.get_dummies(all_data)\n",
    "print(all_data.shape)"
   ]
  },
  {
   "cell_type": "code",
   "execution_count": 43,
   "metadata": {},
   "outputs": [
    {
     "data": {
      "text/html": [
       "<div>\n",
       "<style scoped>\n",
       "    .dataframe tbody tr th:only-of-type {\n",
       "        vertical-align: middle;\n",
       "    }\n",
       "\n",
       "    .dataframe tbody tr th {\n",
       "        vertical-align: top;\n",
       "    }\n",
       "\n",
       "    .dataframe thead th {\n",
       "        text-align: right;\n",
       "    }\n",
       "</style>\n",
       "<table border=\"1\" class=\"dataframe\">\n",
       "  <thead>\n",
       "    <tr style=\"text-align: right;\">\n",
       "      <th></th>\n",
       "      <th>BedroomCnt</th>\n",
       "      <th>BathroomCnt</th>\n",
       "      <th>FinishedSquareFeet</th>\n",
       "      <th>GarageSquareFeet</th>\n",
       "      <th>LotSizeSquareFeet</th>\n",
       "      <th>StoryCnt</th>\n",
       "      <th>Latitude</th>\n",
       "      <th>BGMedHomeValue</th>\n",
       "      <th>BGMedRent</th>\n",
       "      <th>BGPctOwn</th>\n",
       "      <th>...</th>\n",
       "      <th>BGMedYearBuilt_1996</th>\n",
       "      <th>BGMedYearBuilt_1997</th>\n",
       "      <th>BGMedYearBuilt_1998</th>\n",
       "      <th>BGMedYearBuilt_1999</th>\n",
       "      <th>BGMedYearBuilt_2000</th>\n",
       "      <th>BGMedYearBuilt_2001</th>\n",
       "      <th>BGMedYearBuilt_2002</th>\n",
       "      <th>BGMedYearBuilt_2003</th>\n",
       "      <th>BGMedYearBuilt_2004</th>\n",
       "      <th>BGMedYearBuilt_2005</th>\n",
       "    </tr>\n",
       "  </thead>\n",
       "  <tbody>\n",
       "    <tr>\n",
       "      <th>0</th>\n",
       "      <td>1.820334</td>\n",
       "      <td>1.194318</td>\n",
       "      <td>14.023122</td>\n",
       "      <td>10.169007</td>\n",
       "      <td>18.744237</td>\n",
       "      <td>0.730463</td>\n",
       "      <td>87.775809</td>\n",
       "      <td>31.247556</td>\n",
       "      <td>11.653830</td>\n",
       "      <td>0.532093</td>\n",
       "      <td>...</td>\n",
       "      <td>0</td>\n",
       "      <td>0</td>\n",
       "      <td>0</td>\n",
       "      <td>0</td>\n",
       "      <td>0</td>\n",
       "      <td>0</td>\n",
       "      <td>0</td>\n",
       "      <td>0</td>\n",
       "      <td>0</td>\n",
       "      <td>0</td>\n",
       "    </tr>\n",
       "    <tr>\n",
       "      <th>1</th>\n",
       "      <td>1.540963</td>\n",
       "      <td>1.194318</td>\n",
       "      <td>14.439420</td>\n",
       "      <td>9.178051</td>\n",
       "      <td>21.309826</td>\n",
       "      <td>0.730463</td>\n",
       "      <td>87.823846</td>\n",
       "      <td>34.329249</td>\n",
       "      <td>11.907117</td>\n",
       "      <td>0.470293</td>\n",
       "      <td>...</td>\n",
       "      <td>0</td>\n",
       "      <td>0</td>\n",
       "      <td>0</td>\n",
       "      <td>0</td>\n",
       "      <td>0</td>\n",
       "      <td>0</td>\n",
       "      <td>0</td>\n",
       "      <td>0</td>\n",
       "      <td>0</td>\n",
       "      <td>0</td>\n",
       "    </tr>\n",
       "    <tr>\n",
       "      <th>2</th>\n",
       "      <td>1.820334</td>\n",
       "      <td>0.730463</td>\n",
       "      <td>14.410140</td>\n",
       "      <td>10.697217</td>\n",
       "      <td>18.213642</td>\n",
       "      <td>0.730463</td>\n",
       "      <td>87.847501</td>\n",
       "      <td>38.461686</td>\n",
       "      <td>11.270884</td>\n",
       "      <td>0.508974</td>\n",
       "      <td>...</td>\n",
       "      <td>0</td>\n",
       "      <td>0</td>\n",
       "      <td>0</td>\n",
       "      <td>0</td>\n",
       "      <td>0</td>\n",
       "      <td>0</td>\n",
       "      <td>0</td>\n",
       "      <td>0</td>\n",
       "      <td>0</td>\n",
       "      <td>0</td>\n",
       "    </tr>\n",
       "    <tr>\n",
       "      <th>3</th>\n",
       "      <td>1.820334</td>\n",
       "      <td>1.289269</td>\n",
       "      <td>14.968995</td>\n",
       "      <td>0.000000</td>\n",
       "      <td>21.750137</td>\n",
       "      <td>0.730463</td>\n",
       "      <td>87.795717</td>\n",
       "      <td>37.181615</td>\n",
       "      <td>11.831022</td>\n",
       "      <td>0.449946</td>\n",
       "      <td>...</td>\n",
       "      <td>0</td>\n",
       "      <td>0</td>\n",
       "      <td>0</td>\n",
       "      <td>0</td>\n",
       "      <td>0</td>\n",
       "      <td>0</td>\n",
       "      <td>0</td>\n",
       "      <td>0</td>\n",
       "      <td>0</td>\n",
       "      <td>0</td>\n",
       "    </tr>\n",
       "    <tr>\n",
       "      <th>4</th>\n",
       "      <td>1.820334</td>\n",
       "      <td>1.092385</td>\n",
       "      <td>13.716698</td>\n",
       "      <td>0.000000</td>\n",
       "      <td>19.289610</td>\n",
       "      <td>1.194318</td>\n",
       "      <td>87.822349</td>\n",
       "      <td>37.316969</td>\n",
       "      <td>11.514262</td>\n",
       "      <td>0.365006</td>\n",
       "      <td>...</td>\n",
       "      <td>0</td>\n",
       "      <td>0</td>\n",
       "      <td>0</td>\n",
       "      <td>0</td>\n",
       "      <td>0</td>\n",
       "      <td>0</td>\n",
       "      <td>0</td>\n",
       "      <td>0</td>\n",
       "      <td>0</td>\n",
       "      <td>0</td>\n",
       "    </tr>\n",
       "  </tbody>\n",
       "</table>\n",
       "<p>5 rows × 393 columns</p>\n",
       "</div>"
      ],
      "text/plain": [
       "   BedroomCnt  BathroomCnt  FinishedSquareFeet  GarageSquareFeet  \\\n",
       "0    1.820334     1.194318           14.023122         10.169007   \n",
       "1    1.540963     1.194318           14.439420          9.178051   \n",
       "2    1.820334     0.730463           14.410140         10.697217   \n",
       "3    1.820334     1.289269           14.968995          0.000000   \n",
       "4    1.820334     1.092385           13.716698          0.000000   \n",
       "\n",
       "   LotSizeSquareFeet  StoryCnt   Latitude  BGMedHomeValue  BGMedRent  \\\n",
       "0          18.744237  0.730463  87.775809       31.247556  11.653830   \n",
       "1          21.309826  0.730463  87.823846       34.329249  11.907117   \n",
       "2          18.213642  0.730463  87.847501       38.461686  11.270884   \n",
       "3          21.750137  0.730463  87.795717       37.181615  11.831022   \n",
       "4          19.289610  1.194318  87.822349       37.316969  11.514262   \n",
       "\n",
       "   BGPctOwn         ...           BGMedYearBuilt_1996  BGMedYearBuilt_1997  \\\n",
       "0  0.532093         ...                             0                    0   \n",
       "1  0.470293         ...                             0                    0   \n",
       "2  0.508974         ...                             0                    0   \n",
       "3  0.449946         ...                             0                    0   \n",
       "4  0.365006         ...                             0                    0   \n",
       "\n",
       "   BGMedYearBuilt_1998  BGMedYearBuilt_1999  BGMedYearBuilt_2000  \\\n",
       "0                    0                    0                    0   \n",
       "1                    0                    0                    0   \n",
       "2                    0                    0                    0   \n",
       "3                    0                    0                    0   \n",
       "4                    0                    0                    0   \n",
       "\n",
       "   BGMedYearBuilt_2001  BGMedYearBuilt_2002  BGMedYearBuilt_2003  \\\n",
       "0                    0                    0                    0   \n",
       "1                    0                    0                    0   \n",
       "2                    0                    0                    0   \n",
       "3                    0                    0                    0   \n",
       "4                    0                    0                    0   \n",
       "\n",
       "   BGMedYearBuilt_2004  BGMedYearBuilt_2005  \n",
       "0                    0                    0  \n",
       "1                    0                    0  \n",
       "2                    0                    0  \n",
       "3                    0                    0  \n",
       "4                    0                    0  \n",
       "\n",
       "[5 rows x 393 columns]"
      ]
     },
     "execution_count": 43,
     "metadata": {},
     "output_type": "execute_result"
    }
   ],
   "source": [
    "all_data.head()"
   ]
  },
  {
   "cell_type": "code",
   "execution_count": 44,
   "metadata": {},
   "outputs": [],
   "source": [
    "train = all_data[:ntrain]\n",
    "test = all_data[ntrain:]"
   ]
  },
  {
   "cell_type": "code",
   "execution_count": 45,
   "metadata": {},
   "outputs": [
    {
     "data": {
      "text/plain": [
       "(11567, 393)"
      ]
     },
     "execution_count": 45,
     "metadata": {},
     "output_type": "execute_result"
    }
   ],
   "source": [
    "train.shape"
   ]
  },
  {
   "cell_type": "code",
   "execution_count": 46,
   "metadata": {},
   "outputs": [],
   "source": [
    "all_data.to_csv(\"data_processed_zillow.csv\")"
   ]
  },
  {
   "cell_type": "code",
   "execution_count": 47,
   "metadata": {},
   "outputs": [],
   "source": [
    "from sklearn.linear_model import ElasticNet, Lasso, BayesianRidge, LassoLarsIC\n",
    "from sklearn.ensemble import RandomForestRegressor, GradientBoostingRegressor\n",
    "from sklearn.kernel_ridge import KernelRidge\n",
    "from sklearn.pipeline import make_pipeline\n",
    "from sklearn.preprocessing import RobustScaler\n",
    "from sklearn.base import BaseEstimator, TransformerMixin, RegressorMixin, clone\n",
    "from sklearn.model_selection import KFold, cross_val_score, train_test_split\n",
    "from sklearn.metrics import mean_squared_error\n",
    "from sklearn.neural_network import MLPRegressor\n",
    "import xgboost as xgb\n",
    "import lightgbm as lgb\n",
    "import warnings\n",
    "warnings.filterwarnings('ignore')\n",
    "from datetime import datetime\n",
    "from sklearn.model_selection import RandomizedSearchCV, GridSearchCV\n",
    "from sklearn.metrics import roc_auc_score\n",
    "from sklearn.model_selection import StratifiedKFold"
   ]
  },
  {
   "cell_type": "code",
   "execution_count": 48,
   "metadata": {},
   "outputs": [],
   "source": [
    "\n",
    "# Validation function\n",
    "n_folds = 5\n",
    "\n",
    "# cross_val_score function of Sklearn.\n",
    "def rmsle_cv(model):\n",
    "    rmse= np.sqrt(-cross_val_score(model, train.values, \n",
    "                y_train, scoring=\"neg_mean_squared_error\", cv = n_folds))\n",
    "    return(rmse)\n"
   ]
  },
  {
   "cell_type": "code",
   "execution_count": 49,
   "metadata": {},
   "outputs": [],
   "source": [
    "def Avg_absolute_percentage_error(y_true, y_pred): \n",
    "    \n",
    "    return (np.mean(np.abs((y_true - y_pred) / y_true)))\n",
    "\n",
    "\n",
    "def function1(model):\n",
    "    aape=[]\n",
    "    fold = KFold(n_folds, shuffle=True, \n",
    "                   random_state=100)\n",
    "    for train_index, test_index in fold.split(train.values):\n",
    "        X_train, X_test = train.iloc[train_index], train.iloc[test_index]\n",
    "        y_true, y_test = y_train[train_index], y_train[test_index]\n",
    "        model.fit(X_train, y_true)\n",
    "        model_pred = np.expm1(model.predict(X_test))\n",
    "        aape.append(Avg_absolute_percentage_error(np.expm1(y_test),model_pred))\n",
    "    return sum(aape) / len(aape)\n",
    "\n",
    "    "
   ]
  },
  {
   "cell_type": "code",
   "execution_count": 50,
   "metadata": {},
   "outputs": [],
   "source": [
    "def function2(model1,model2):\n",
    "    aape=[]\n",
    "    fold = KFold(n_folds, shuffle=True, \n",
    "                   random_state=100)\n",
    "    for train_index, test_index in fold.split(train.values):\n",
    "        X_train, X_test = train.iloc[train_index], train.iloc[test_index]\n",
    "        y_true, y_test = y_train[train_index], y_train[test_index]\n",
    "        model1.fit(X_train, y_true)\n",
    "        model1_pred = np.expm1(model1.predict(X_test))\n",
    "        model2.fit(X_train, y_true)\n",
    "        model2_pred = np.expm1(model2.predict(X_test))\n",
    "        ensemble=0.45*model1_pred+0.55*model2_pred\n",
    "        aape.append(Avg_absolute_percentage_error(np.expm1(y_test),ensemble))\n",
    "    return sum(aape) / len(aape)\n"
   ]
  },
  {
   "cell_type": "code",
   "execution_count": 51,
   "metadata": {},
   "outputs": [],
   "source": [
    "def function3(model1,model2,model3):\n",
    "    aape=[]\n",
    "    fold = KFold(n_folds, shuffle=True, \n",
    "                   random_state=100)\n",
    "    for train_index, test_index in fold.split(train.values):\n",
    "        X_train, X_test = train.iloc[train_index], train.iloc[test_index]\n",
    "        y_true, y_test = y_train[train_index], y_train[test_index]\n",
    "        model1.fit(X_train, y_true)\n",
    "        model1_pred = np.expm1(model1.predict(X_test))\n",
    "        model2.fit(X_train, y_true)\n",
    "        model2_pred = np.expm1(model2.predict(X_test))\n",
    "        model3.fit(X_train, y_true)\n",
    "        model3_pred = np.expm1(model3.predict(X_test))\n",
    "        ensemble=0.55*model2_pred+0.10*model1_pred+0.35*model3_pred\n",
    "        aape.append(Avg_absolute_percentage_error(np.expm1(y_test),ensemble))\n",
    "    return sum(aape) / len(aape)\n"
   ]
  },
  {
   "cell_type": "code",
   "execution_count": 52,
   "metadata": {},
   "outputs": [],
   "source": [
    "# XGBoost\n",
    "model_xgb = xgb.XGBRegressor(colsample_bytree=0.5, gamma=0.5, \n",
    "                             learning_rate=0.05, max_depth=3, \n",
    "                             min_child_weight=1, n_estimators=4000,\n",
    "                             reg_alpha=0.4, reg_lambda=0.8,\n",
    "                             subsample=0.5, silent=1,\n",
    "                             nthread=1)"
   ]
  },
  {
   "cell_type": "code",
   "execution_count": 327,
   "metadata": {},
   "outputs": [
    {
     "name": "stdout",
     "output_type": "stream",
     "text": [
      "XGB score: 0.1866 (0.0051)\n",
      "\n"
     ]
    }
   ],
   "source": [
    "score = rmsle_cv(model_xgb)\n",
    "print(\"XGB score: {:.4f} ({:.4f})\\n\" .format(score.mean(), score.std()))"
   ]
  },
  {
   "cell_type": "code",
   "execution_count": 53,
   "metadata": {},
   "outputs": [],
   "source": [
    "# Kernel Ridge Regression\n",
    "KRR = KernelRidge(alpha=0.6, kernel='polynomial', degree=3, coef0=3)"
   ]
  },
  {
   "cell_type": "code",
   "execution_count": 329,
   "metadata": {},
   "outputs": [
    {
     "name": "stdout",
     "output_type": "stream",
     "text": [
      "KRR score: 0.1992 (0.0102)\n",
      "\n"
     ]
    }
   ],
   "source": [
    "score = rmsle_cv(KRR)\n",
    "print(\"KRR score: {:.4f} ({:.4f})\\n\" .format(score.mean(), score.std()))"
   ]
  },
  {
   "cell_type": "code",
   "execution_count": 54,
   "metadata": {},
   "outputs": [],
   "source": [
    "# Elastic net regression\n",
    "ENet = make_pipeline(RobustScaler(),ElasticNet(alpha=0.0001, l1_ratio=.5, random_state=30))"
   ]
  },
  {
   "cell_type": "code",
   "execution_count": 55,
   "metadata": {},
   "outputs": [],
   "source": [
    "# LightGBM\n",
    "model_lgb = lgb.LGBMRegressor(objective='regression',num_leaves=5,\n",
    "                              learning_rate=0.05, n_estimators=4000,\n",
    "                              max_bin = 50, bagging_fraction = 0.9,\n",
    "                              bagging_freq = 10, feature_fraction = 0.5,\n",
    "                              feature_fraction_seed=7, bagging_seed=7,\n",
    "                              min_data_in_leaf=5, min_sum_hessian_in_leaf=15)\n"
   ]
  },
  {
   "cell_type": "code",
   "execution_count": 56,
   "metadata": {},
   "outputs": [
    {
     "name": "stdout",
     "output_type": "stream",
     "text": [
      "LightGBM score: 0.1822 (0.0058)\n",
      "\n"
     ]
    }
   ],
   "source": [
    "score = rmsle_cv(model_lgb)\n",
    "print(\"LightGBM score: {:.4f} ({:.4f})\\n\" .format(score.mean(), score.std()))"
   ]
  },
  {
   "cell_type": "code",
   "execution_count": 58,
   "metadata": {},
   "outputs": [],
   "source": [
    "# Gradient Boosting Regression\n",
    "GBoost = GradientBoostingRegressor(n_estimators=4000, learning_rate=0.05,\n",
    "                                   max_depth=5, max_features='sqrt',\n",
    "                                   min_samples_leaf=15, min_samples_split=10, \n",
    "                                   loss='huber', random_state =5)"
   ]
  },
  {
   "cell_type": "code",
   "execution_count": 59,
   "metadata": {},
   "outputs": [
    {
     "name": "stdout",
     "output_type": "stream",
     "text": [
      "Gradient Boosting score: 0.1807 (0.0059)\n",
      "\n"
     ]
    }
   ],
   "source": [
    "score = rmsle_cv(GBoost)\n",
    "print(\"Gradient Boosting score: {:.4f} ({:.4f})\\n\".format(score.mean(), score.std()))"
   ]
  },
  {
   "cell_type": "code",
   "execution_count": 60,
   "metadata": {},
   "outputs": [],
   "source": [
    "# lasso regression\n",
    "lasso = make_pipeline(RobustScaler(), Lasso(alpha =0.0001, random_state=2))"
   ]
  },
  {
   "cell_type": "code",
   "execution_count": 61,
   "metadata": {},
   "outputs": [
    {
     "name": "stdout",
     "output_type": "stream",
     "text": [
      "Lasso score: 0.2131 (0.0085)\n",
      "\n"
     ]
    }
   ],
   "source": [
    "score = rmsle_cv(lasso)\n",
    "print(\"Lasso score: {:.4f} ({:.4f})\\n\" .format(score.mean(), score.std()))"
   ]
  },
  {
   "cell_type": "code",
   "execution_count": 62,
   "metadata": {},
   "outputs": [],
   "source": [
    "def rmsle(y, y_pred):\n",
    "    return np.sqrt(mean_squared_error(y, y_pred))"
   ]
  },
  {
   "cell_type": "code",
   "execution_count": 338,
   "metadata": {},
   "outputs": [
    {
     "name": "stdout",
     "output_type": "stream",
     "text": [
      "AAPE for XGBoost: 0.13237407667586443\n"
     ]
    }
   ],
   "source": [
    "print(\"AAPE for XGBoost:\",function1(model_xgb))"
   ]
  },
  {
   "cell_type": "code",
   "execution_count": 63,
   "metadata": {},
   "outputs": [
    {
     "name": "stdout",
     "output_type": "stream",
     "text": [
      "ENet score: 0.2134 (0.0089)\n",
      "\n"
     ]
    }
   ],
   "source": [
    "score = rmsle_cv(ENet)\n",
    "print(\"ENet score: {:.4f} ({:.4f})\\n\" .format(score.mean(), score.std()))"
   ]
  },
  {
   "cell_type": "code",
   "execution_count": 64,
   "metadata": {},
   "outputs": [
    {
     "name": "stdout",
     "output_type": "stream",
     "text": [
      "AAPE for ENet: 0.14992587493363166\n"
     ]
    }
   ],
   "source": [
    "print(\"AAPE for ENet:\",function1(ENet))"
   ]
  },
  {
   "cell_type": "code",
   "execution_count": 65,
   "metadata": {},
   "outputs": [
    {
     "name": "stdout",
     "output_type": "stream",
     "text": [
      "AAPE for Lasso: 0.1502296842444727\n"
     ]
    }
   ],
   "source": [
    "print(\"AAPE for Lasso:\",function1(lasso))"
   ]
  },
  {
   "cell_type": "code",
   "execution_count": 66,
   "metadata": {},
   "outputs": [
    {
     "name": "stdout",
     "output_type": "stream",
     "text": [
      "AAPE for LightGBM: 0.12422754022042845\n"
     ]
    }
   ],
   "source": [
    "print(\"AAPE for LightGBM:\",function1(model_lgb))"
   ]
  },
  {
   "cell_type": "code",
   "execution_count": 343,
   "metadata": {},
   "outputs": [
    {
     "name": "stdout",
     "output_type": "stream",
     "text": [
      "AAPE for KRR: 0.13737026450451859\n"
     ]
    }
   ],
   "source": [
    "print(\"AAPE for KRR:\",function1(KRR))"
   ]
  },
  {
   "cell_type": "code",
   "execution_count": 67,
   "metadata": {},
   "outputs": [
    {
     "name": "stdout",
     "output_type": "stream",
     "text": [
      "AAPE for GBoost: 0.1193563245973828\n"
     ]
    }
   ],
   "source": [
    "print(\"AAPE for GBoost:\",function1(GBoost))"
   ]
  },
  {
   "cell_type": "code",
   "execution_count": 68,
   "metadata": {},
   "outputs": [],
   "source": [
    "# Stacking averaged Models Class\n",
    "class StackingAveragedModels(BaseEstimator, RegressorMixin, TransformerMixin):\n",
    "    def __init__(self, base_models, meta_model, n_folds=5):\n",
    "        self.base_models = base_models\n",
    "        self.meta_model = meta_model\n",
    "        self.n_folds = n_folds\n",
    "   \n",
    "    # fit the data on clones of the original models again\n",
    "    def fit(self, X, y):\n",
    "        self.base_models_ = [list() for x in self.base_models]\n",
    "        self.meta_model_ = clone(self.meta_model)\n",
    "        kfold = KFold(n_splits=self.n_folds, shuffle=True, random_state=100)\n",
    "        \n",
    "        # Train cloned base models then create out-of-fold predictions\n",
    "        # that are needed to train the cloned meta-model\n",
    "        out_of_fold_predictions = np.zeros((X.shape[0], len(self.base_models)))\n",
    "        for i, model in enumerate(self.base_models):\n",
    "            for train_index, holdout_index in kfold.split(X, y):\n",
    "                instance = clone(model)\n",
    "                self.base_models_[i].append(instance)\n",
    "                instance.fit(X[train_index], y[train_index])\n",
    "                y_pred = instance.predict(X[holdout_index])\n",
    "                out_of_fold_predictions[holdout_index, i] = y_pred\n",
    "                \n",
    "        # Now train the cloned  meta-model using the out-of-fold predictions as new feature\n",
    "        self.meta_model_.fit(out_of_fold_predictions, y)\n",
    "        return self\n",
    "   \n",
    "    #Do the predictions of all base models on the test data and use the averaged predictions as \n",
    "    #meta-features for the final prediction which is done by the meta-model\n",
    "    def predict(self, X):\n",
    "        meta_features = np.column_stack([\n",
    "            np.column_stack([model.predict(X) for model in base_models]).mean(axis=1)\n",
    "            for base_models in self.base_models_ ])\n",
    "        return self.meta_model_.predict(meta_features)"
   ]
  },
  {
   "cell_type": "code",
   "execution_count": 69,
   "metadata": {},
   "outputs": [],
   "source": [
    "stacked_averaged_models = StackingAveragedModels(base_models = (GBoost,model_lgb),\n",
    "                                                 meta_model = ENet)"
   ]
  },
  {
   "cell_type": "code",
   "execution_count": 348,
   "metadata": {},
   "outputs": [
    {
     "name": "stdout",
     "output_type": "stream",
     "text": [
      "Stacking Averaged models score: 0.1778 (0.0056)\n"
     ]
    }
   ],
   "source": [
    "score = rmsle_cv(stacked_averaged_models)\n",
    "print(\"Stacking Averaged models score: {:.4f} ({:.4f})\".format(score.mean(), score.std()))"
   ]
  },
  {
   "cell_type": "code",
   "execution_count": 70,
   "metadata": {},
   "outputs": [],
   "source": [
    "# Stacking averaged Models Class for calculating aape\n",
    "class StackingAveragedModels1(BaseEstimator, RegressorMixin, TransformerMixin):\n",
    "    def __init__(self, base_models, meta_model, n_folds=5):\n",
    "        self.base_models = base_models\n",
    "        self.meta_model = meta_model\n",
    "        self.n_folds = n_folds\n",
    "   \n",
    "    # fit the data on clones of the original models again\n",
    "    def fit(self, X, y):\n",
    "        self.base_models_ = [list() for x in self.base_models]\n",
    "        self.meta_model_ = clone(self.meta_model)\n",
    "        kfold = KFold(n_splits=self.n_folds, shuffle=True, random_state=100)\n",
    "        \n",
    "        # Train cloned base models then create out-of-fold predictions\n",
    "        # that are needed to train the cloned meta-model\n",
    "        out_of_fold_predictions = np.zeros((X.shape[0], len(self.base_models)))\n",
    "        for i, model in enumerate(self.base_models):\n",
    "            for train_index, holdout_index in kfold.split(X, y):\n",
    "                instance = clone(model)\n",
    "                self.base_models_[i].append(instance)\n",
    "                instance.fit(X.iloc[train_index], y[train_index])\n",
    "                y_pred = instance.predict(X.iloc[holdout_index])\n",
    "                out_of_fold_predictions[holdout_index, i] = y_pred\n",
    "                \n",
    "        # Now train the cloned  meta-model using the out-of-fold predictions as new feature\n",
    "        self.meta_model_.fit(out_of_fold_predictions, y)\n",
    "        return self\n",
    "   \n",
    "    #Do the predictions of all base models on the test data and use the averaged predictions as \n",
    "    #meta-features for the final prediction which is done by the meta-model\n",
    "    def predict(self, X):\n",
    "        meta_features = np.column_stack([\n",
    "            np.column_stack([model.predict(X) for model in base_models]).mean(axis=1)\n",
    "            for base_models in self.base_models_ ])\n",
    "        return self.meta_model_.predict(meta_features)"
   ]
  },
  {
   "cell_type": "code",
   "execution_count": 71,
   "metadata": {},
   "outputs": [],
   "source": [
    "stacked_averaged_models1 = StackingAveragedModels1(base_models = (GBoost,model_lgb),\n",
    "                                                 meta_model = ENet)"
   ]
  },
  {
   "cell_type": "code",
   "execution_count": 358,
   "metadata": {},
   "outputs": [
    {
     "name": "stdout",
     "output_type": "stream",
     "text": [
      "AAPE for stacked_averaged_models: 0.1189998552730294\n"
     ]
    }
   ],
   "source": [
    "print(\"AAPE for stacked_averaged_models:\",function1(stacked_averaged_models1))"
   ]
  },
  {
   "cell_type": "code",
   "execution_count": 73,
   "metadata": {},
   "outputs": [],
   "source": [
    "results = pd.DataFrame()\n",
    "results['PropertyID'] = test_PropertyID\n",
    "results['SaleDollarCnt'] = stacked_pred\n",
    "results.to_csv('zillow_result.csv',index=False)"
   ]
  },
  {
   "cell_type": "code",
   "execution_count": 76,
   "metadata": {},
   "outputs": [],
   "source": [
    "###End###"
   ]
  }
 ],
 "metadata": {
  "kernelspec": {
   "display_name": "Python 3",
   "language": "python",
   "name": "python3"
  },
  "language_info": {
   "codemirror_mode": {
    "name": "ipython",
    "version": 3
   },
   "file_extension": ".py",
   "mimetype": "text/x-python",
   "name": "python",
   "nbconvert_exporter": "python",
   "pygments_lexer": "ipython3",
   "version": "3.6.4"
  }
 },
 "nbformat": 4,
 "nbformat_minor": 2
}
